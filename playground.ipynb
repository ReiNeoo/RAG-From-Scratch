{
 "cells": [
  {
   "cell_type": "code",
   "execution_count": 1,
   "metadata": {},
   "outputs": [
    {
     "name": "stdout",
     "output_type": "stream",
     "text": [
      "Requirement already satisfied: ollama in ./.venv/lib/python3.12/site-packages (0.4.7)\n",
      "Requirement already satisfied: httpx<0.29,>=0.27 in ./.venv/lib/python3.12/site-packages (from ollama) (0.28.1)\n",
      "Requirement already satisfied: pydantic<3.0.0,>=2.9.0 in ./.venv/lib/python3.12/site-packages (from ollama) (2.11.0)\n",
      "Requirement already satisfied: anyio in ./.venv/lib/python3.12/site-packages (from httpx<0.29,>=0.27->ollama) (4.9.0)\n",
      "Requirement already satisfied: certifi in ./.venv/lib/python3.12/site-packages (from httpx<0.29,>=0.27->ollama) (2025.1.31)\n",
      "Requirement already satisfied: httpcore==1.* in ./.venv/lib/python3.12/site-packages (from httpx<0.29,>=0.27->ollama) (1.0.7)\n",
      "Requirement already satisfied: idna in ./.venv/lib/python3.12/site-packages (from httpx<0.29,>=0.27->ollama) (3.10)\n",
      "Requirement already satisfied: h11<0.15,>=0.13 in ./.venv/lib/python3.12/site-packages (from httpcore==1.*->httpx<0.29,>=0.27->ollama) (0.14.0)\n",
      "Requirement already satisfied: annotated-types>=0.6.0 in ./.venv/lib/python3.12/site-packages (from pydantic<3.0.0,>=2.9.0->ollama) (0.7.0)\n",
      "Requirement already satisfied: pydantic-core==2.33.0 in ./.venv/lib/python3.12/site-packages (from pydantic<3.0.0,>=2.9.0->ollama) (2.33.0)\n",
      "Requirement already satisfied: typing-extensions>=4.12.2 in ./.venv/lib/python3.12/site-packages (from pydantic<3.0.0,>=2.9.0->ollama) (4.13.0)\n",
      "Requirement already satisfied: typing-inspection>=0.4.0 in ./.venv/lib/python3.12/site-packages (from pydantic<3.0.0,>=2.9.0->ollama) (0.4.0)\n",
      "Requirement already satisfied: sniffio>=1.1 in ./.venv/lib/python3.12/site-packages (from anyio->httpx<0.29,>=0.27->ollama) (1.3.1)\n"
     ]
    }
   ],
   "source": [
    "! pip3 install ollama "
   ]
  },
  {
   "cell_type": "code",
   "execution_count": 4,
   "metadata": {},
   "outputs": [
    {
     "name": "stdout",
     "output_type": "stream",
     "text": [
      "role='assistant' content=' Bu görselde, Samsung\\'ın bir posta faktüri gösterilir. Faktürün, Samsung\\'ın adresinin bulunduğuna, Samsung\\'ın çözdüğü veya sadece kaydediğini belirler. Girişte, \"Samsung Electronics\" yazısı bulunur ve bu görsel, Samsung\\'ın işteknisi veya görevinde bulunduğunu göstermektedir. Faktürdeki bilgiler, sadece kişinin söz verdiği şikayet veya talebi olan bir posta faktürü olarak kullanılabilir. ' images=None tool_calls=None\n"
     ]
    }
   ],
   "source": [
    "import ollama\n",
    "\n",
    "response = ollama.chat(\n",
    "    model='llava',\n",
    "    messages=[\n",
    "        {'role': 'system', 'content': 'Sen bir görsel asistanısın.'},\n",
    "        {'role': 'user', 'content': 'Bu görselde ne görüyorsun?', 'images': ['/home/proven/RAG-From-Scratch/receipt.png']}\n",
    "    ]\n",
    ")\n",
    "\n",
    "print(response['message'])"
   ]
  },
  {
   "cell_type": "code",
   "execution_count": 5,
   "metadata": {},
   "outputs": [
    {
     "name": "stdout",
     "output_type": "stream",
     "text": [
      "role='assistant' content='Bu görselde bir Samsung Galaxy M34 5G telefonun faturalı sevk fişi yer alıyor. Aşağıdaki bilgileri içeriyor:\\n\\n*   **Ürün:** Samsung Galaxy M34 5G 128 GB RAM (Mavi)\\n*   **Fili Sevk Tarihi:** 15/12/2023\\n*   **Düzenleme Tarihi:** 15/12/2023\\n*   **Düzenleme Saati:** 13:45\\n*   **Fili Sevk No:** DSM23000173932\\n*   **ETN No:** 32DBF38-36C5-402E-ABF0-EDF18D18DC44\\n*   **Seri No:** 35390004000300030003\\n*   **Toplam İskonto Tutarı:** 7.935,87 TL\\n*   **Toplam Satış Tutarı:** 9.499,00 TL\\n*   **Vergi Desteği Tutarı:** 1.563,13 TL' images=None tool_calls=None\n"
     ]
    }
   ],
   "source": [
    "import ollama\n",
    "\n",
    "response = ollama.chat(\n",
    "    model='gemma3:4b',\n",
    "    messages=[\n",
    "        {'role': 'system', 'content': 'Sen bir görsel asistanısın.'},\n",
    "        {'role': 'user', 'content': 'Bu görselde ne görüyorsun?', 'images': ['/home/proven/RAG-From-Scratch/receipt.png']}\n",
    "    ]\n",
    ")\n",
    "\n",
    "print(response['message'])"
   ]
  },
  {
   "cell_type": "code",
   "execution_count": 4,
   "metadata": {},
   "outputs": [
    {
     "name": "stdout",
     "output_type": "stream",
     "text": [
      "role='assistant' content='33227130304' images=None tool_calls=None\n"
     ]
    }
   ],
   "source": [
    "import ollama\n",
    "\n",
    "response = ollama.chat(\n",
    "    model='gemma3:4b',\n",
    "    messages=[\n",
    "        {'role': 'system', 'content': 'you are a image asistant.'},\n",
    "        {'role': 'user', 'content': 'scrap \"E-ARŞİV NO\", from this image', 'images': ['/home/proven/RAG-From-Scratch/receipt.png']}\n",
    "    ]\n",
    ")\n",
    "\n",
    "print(response['message'])"
   ]
  },
  {
   "cell_type": "code",
   "execution_count": 8,
   "metadata": {},
   "outputs": [
    {
     "name": "stdout",
     "output_type": "stream",
     "text": [
      "role='assistant' content=\"Okay, I've extracted the information you requested.\\n\\n**E-ARŞİV NO: DSM2023000173932**\" images=None tool_calls=None\n"
     ]
    }
   ],
   "source": [
    "import ollama\n",
    "\n",
    "response = ollama.chat(\n",
    "    model='gemma3:12b',\n",
    "    messages=[\n",
    "        {'role': 'system', 'content': 'you are a image asistant.'},\n",
    "        {'role': 'user', 'content': 'scrap \"E-ARŞİV NO\", from this image', 'images': ['/home/proven/RAG-From-Scratch/receipt.png']}\n",
    "    ]\n",
    ")           \n",
    "\n",
    "print(response['message'])"
   ]
  },
  {
   "cell_type": "code",
   "execution_count": null,
   "metadata": {},
   "outputs": [
    {
     "name": "stdout",
     "output_type": "stream",
     "text": [
      "role='assistant' content='Here\\'s the extracted value for \"Ödenecek Tutar\" from the image:\\n\\n**Ödenecek Tutar: 9.499,00 TL**' images=None tool_calls=None\n"
     ]
    }
   ],
   "source": [
    "import ollama\n",
    "\n",
    "response = ollama.chat(\n",
    "    model='gemma3:12b',\n",
    "    messages=[\n",
    "        {'role': 'system', 'content': 'you are a image asistant.'},\n",
    "        {'role': 'user', 'content': 'scrap \"Ödenecek Tutar\", from this image', 'images': ['/home/proven/RAG-From-Scratch/receipt.png']}\n",
    "    ]\n",
    ")\n",
    "print(response['message'])"
   ]
  },
  {
   "cell_type": "code",
   "execution_count": 14,
   "metadata": {},
   "outputs": [
    {
     "name": "stdout",
     "output_type": "stream",
     "text": [
      "t\n",
      "\n",
      "MUHAMMED ESAD DOGAN\n",
      "KILINCARSLAN MAH\n",
      "\n",
      "KILICARSLAN MAHALLES!,\n",
      "\n",
      "MA] SOKAK, THLAMUR J\n",
      "SSITESL, C BLOK , KAT:8 KAPI\n",
      "\n",
      "NUMARASE6 Erg Internet Fata\n",
      "\n",
      "SSELCUNLU/KONYA\n",
      "L J\n",
      "\n",
      "132237130304\n",
      "\n",
      "ETT: 32DE8F38-36C5-402E ABFO-EDFI81300044\n",
      "\n",
      "SAMSUNG\n",
      "\n",
      "DRG AKSESUAR VE LETISIM HLZMETLER]\n",
      "PAZARLAWA SAN. VETIC. AS.\n",
      "‘Grane You Cad Senge Soak Kaya Meum\n",
      "Werkentattl brie) Nes\n",
      "\n",
      "34520 Blyigekmece/ Ital\n",
      "\n",
      "212 a7 49 49POx\n",
      "\n",
      "Frau 71 Si 82\n",
      "\n",
      "Wie Stes retps:/shop samsung contr\n",
      "ost: nfo@sarsungwa.comt?|\n",
      "\n",
      "‘erg Dares BUVIKCERIECE\n",
      "\n",
      "ERSISNO: 312062526100012\n",
      "\n",
      "‘wat: 3130626361\n",
      "\n",
      "E-aRSIV NO ‘psm2023000173932\n",
      "\n",
      "LE SeVK TARE =: 15/12/2023\n",
      "DUZENLEME TARIME |: 15/12/2023\n",
      "DUZENLEME SAATI 13:45\n",
      "\n",
      "ACRANA BEIM FAT TAR TOTAR\n",
      "SAMSUNG GALAN NA 5G 138 G6 GB RAM KOWU MAVE 731583 T 73583\n",
      "Seri No: SSSB03@ADIOG7SE Mal Hizmet Toplam Tatar 7315837\n",
      "‘Toplam iskonto 0,007.\n",
      "DV Matrahi 7915837.\n",
      "Hesaplanan KDV20 1583,17 TL\n",
      "Vergler Dahil Toplam Tutar 9.499,00 TL\n",
      "Gdenecek Tutar 9.499,00 TL\n",
      "-Asiv and kapsaminda eeltronk otamda itis.\n",
      "REFNO: 247355805561696701;,\n",
      "Gdeme Notu: rec Korb“ 9499,00 TL,\n",
      "Doku2BindirtizdoksanDolu TL\n",
      "ean scent es aces\n",
      "anaes ms 470 ons 542 loa, en\n",
      "eso fa ‘sams\n",
      "atte eaten tae ten Matin\n",
      "\n",
      "\n"
     ]
    }
   ],
   "source": [
    "import pytesseract\n",
    "from PIL import Image\n",
    "\n",
    "pytesseract.pytesseract.tesseract_cmd = r'/usr/bin/tesseract'\n",
    "\n",
    "\n",
    "# Load image\n",
    "image = Image.open(\"receipt.png\")\n",
    "\n",
    "# Run OCR\n",
    "text = pytesseract.image_to_string(image, lang='eng')\n",
    "\n",
    "print(text)\n"
   ]
  }
 ],
 "metadata": {
  "kernelspec": {
   "display_name": ".venv",
   "language": "python",
   "name": "python3"
  },
  "language_info": {
   "codemirror_mode": {
    "name": "ipython",
    "version": 3
   },
   "file_extension": ".py",
   "mimetype": "text/x-python",
   "name": "python",
   "nbconvert_exporter": "python",
   "pygments_lexer": "ipython3",
   "version": "3.12.3"
  }
 },
 "nbformat": 4,
 "nbformat_minor": 2
}
