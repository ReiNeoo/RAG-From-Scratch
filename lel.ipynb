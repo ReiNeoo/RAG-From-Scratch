{
 "cells": [
  {
   "cell_type": "code",
   "execution_count": 3,
   "metadata": {},
   "outputs": [],
   "source": [
    "def generate_prompt(question, session):\n",
    "        conversation = \"\\n\".join(\n",
    "            [f\"question of user: {item.get('user')}\\nResponse of Bot: {item.get('bot')}\" for item in session])\n",
    "        query = f\"\"\"\n",
    "            Based on the following context and conversation history, answer the query.\n",
    "        \n",
    "        Context:\n",
    "        {conversation}\n",
    "        \n",
    "        Query: {question}\n",
    "\n",
    "            \"\"\"\n",
    "        return query"
   ]
  },
  {
   "cell_type": "code",
   "execution_count": 2,
   "metadata": {},
   "outputs": [],
   "source": [
    "session =[\n",
    "    {\n",
    "        'user' : 'merhaba',\n",
    "        'bot' : 'sana merhaba ulan ayı'\n",
    "    }\n",
    "]\n",
    "\n",
    "question = 'lelelelelelell'"
   ]
  },
  {
   "cell_type": "code",
   "execution_count": 4,
   "metadata": {},
   "outputs": [],
   "source": [
    "a = generate_prompt(question, session)"
   ]
  },
  {
   "cell_type": "code",
   "execution_count": 5,
   "metadata": {},
   "outputs": [
    {
     "name": "stdout",
     "output_type": "stream",
     "text": [
      "\n",
      "            Based on the following context and conversation history, answer the query.\n",
      "        \n",
      "        Context:\n",
      "        question of user: merhaba\n",
      "Response of Bot: sana merhaba ulan ayı\n",
      "        \n",
      "        Query: lelelelelelell\n",
      "\n",
      "            \n"
     ]
    }
   ],
   "source": [
    "print(a)"
   ]
  }
 ],
 "metadata": {
  "kernelspec": {
   "display_name": ".hfenv",
   "language": "python",
   "name": "python3"
  },
  "language_info": {
   "codemirror_mode": {
    "name": "ipython",
    "version": 3
   },
   "file_extension": ".py",
   "mimetype": "text/x-python",
   "name": "python",
   "nbconvert_exporter": "python",
   "pygments_lexer": "ipython3",
   "version": "3.10.12"
  }
 },
 "nbformat": 4,
 "nbformat_minor": 2
}
